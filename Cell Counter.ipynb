{
 "cells": [
  {
   "cell_type": "code",
   "execution_count": 36,
   "metadata": {},
   "outputs": [
    {
     "name": "stdout",
     "output_type": "stream",
     "text": [
      "File name: cell.jpg\n",
      "51\n"
     ]
    }
   ],
   "source": [
    "import cv2 as cv\n",
    "import numpy as np\n",
    "import matplotlib.pyplot as plt\n",
    "from skimage import util\n",
    "path = input(\"File name: \")\n",
    "src = cv.imread(path)\n",
    "\n",
    "kernel = np.array([[1, 1, 1], [1, -8, 1], [1, 1, 1]], dtype=np.float32)\n",
    "imgLaplacian = cv.filter2D(src, cv.CV_32F, kernel)\n",
    "sharp = np.float32(src)\n",
    "imgResult = sharp - imgLaplacian\n",
    "imgResult = np.clip(imgResult, 0, 255)\n",
    "imgResult = imgResult.astype('uint8')\n",
    "imgLaplacian = np.clip(imgLaplacian, 0, 255)\n",
    "imgLaplacian = np.uint8(imgLaplacian)\n",
    "\n",
    "bw = cv.cvtColor(imgResult, cv.COLOR_BGR2GRAY)\n",
    "_, bw = cv.threshold(bw, 40, 255, cv.THRESH_BINARY | cv.THRESH_OTSU)\n",
    "\n",
    "bw = util.invert(bw)\n",
    "kernel = np.ones((5,5),np.uint8)\n",
    "bw = cv.morphologyEx(bw, cv.MORPH_OPEN, kernel, iterations = 2)\n",
    "bw = cv.morphologyEx(bw, cv.MORPH_CLOSE, kernel, iterations = 5)\n",
    "kernel = np.ones((3,3),np.uint8)\n",
    "bw = cv.morphologyEx(bw, cv.MORPH_CLOSE, kernel, iterations = 10)\n",
    "kernel = np.ones((5,5),np.uint8)\n",
    "bw = cv.morphologyEx(bw, cv.MORPH_OPEN, kernel, iterations = 2)\n",
    "\n",
    "inv_bw = util.invert(bw)\n",
    "h, w = bw.shape[:2]\n",
    "mask = np.zeros((h+2, w+2), np.uint8)\n",
    "cv.floodFill(inv_bw, mask, (0,0), 0);\n",
    "im_out = bw | inv_bw\n",
    "\n",
    "dist = cv.distanceTransform(im_out, cv.DIST_L2, 3)\n",
    "cv.normalize(dist, dist, 0, 1.0, cv.NORM_MINMAX)\n",
    "\n",
    "_, dist = cv.threshold(dist, 0.1, 1.0, cv.THRESH_BINARY)\n",
    "kernel1 = np.ones((3,3), dtype=np.uint8)\n",
    "dist = cv.dilate(dist, kernel1)\n",
    "\n",
    "kernel = np.ones((4,4),np.uint8)\n",
    "dist = cv.morphologyEx(dist, cv.MORPH_OPEN, kernel, iterations = 2)\n",
    "kernel = np.ones((3,3),np.uint8)\n",
    "dist = cv.erode(dist, kernel, 2)\n",
    "dist = cv.dilate(dist, kernel, 2)\n",
    "\n",
    "dist_8u = dist.astype('uint8')\n",
    "contours, _ = cv.findContours(dist_8u, cv.RETR_EXTERNAL, cv.CHAIN_APPROX_SIMPLE)\n",
    "count = 0\n",
    "for cont in contours:\n",
    "    if (len(cont) > 4):\n",
    "        count += 1\n",
    "print(count)"
   ]
  },
  {
   "cell_type": "code",
   "execution_count": null,
   "metadata": {},
   "outputs": [],
   "source": []
  }
 ],
 "metadata": {
  "kernelspec": {
   "display_name": "Python 3",
   "language": "python",
   "name": "python3"
  },
  "language_info": {
   "codemirror_mode": {
    "name": "ipython",
    "version": 3
   },
   "file_extension": ".py",
   "mimetype": "text/x-python",
   "name": "python",
   "nbconvert_exporter": "python",
   "pygments_lexer": "ipython3",
   "version": "3.7.1"
  }
 },
 "nbformat": 4,
 "nbformat_minor": 2
}
